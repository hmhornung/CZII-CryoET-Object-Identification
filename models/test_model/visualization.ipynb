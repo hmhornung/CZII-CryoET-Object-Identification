{
 "cells": [
  {
   "cell_type": "code",
   "execution_count": 1,
   "metadata": {},
   "outputs": [],
   "source": [
    "\n",
    "import random\n",
    "from itertools import count\n",
    "import pandas as pd\n",
    "import matplotlib.pyplot as plt\n",
    "import numpy as np\n",
    "\n",
    "%matplotlib qt"
   ]
  },
  {
   "cell_type": "code",
   "execution_count": 2,
   "metadata": {},
   "outputs": [],
   "source": [
    "class train_visual():\n",
    "    def __init__(self, epochs, labels, loss_rng):\n",
    "        self.epochs = epochs\n",
    "        self.cur_trial = 1\n",
    "        self.labels = labels\n",
    "        self.num_labels = len(labels)\n",
    "        self.loss_rng = loss_rng\n",
    "        self.data = {\n",
    "            'losses': [],  # trials x epochs (per trial)\n",
    "            'label_pr': [] # trials x labels x 2 (p & r) x epochs\n",
    "        }\n",
    "    def set_data(self, inp, trial):\n",
    "        self.data = inp\n",
    "        self.cur_trial = trial\n",
    "        \n",
    "    def report(self, loss, lables_pr):\n",
    "        \"\"\"\n",
    "        labels_pr shape = labels x [p, r]\n",
    "        \"\"\"\n",
    "        self.data['losses'][self.cur_trial - 1].append(loss)\n",
    "        for label in range(self.num_labels):\n",
    "            for pr in range(2):\n",
    "                self.data['label_pr'][self.cur_trial - 1][label][pr].append(lables_pr[label][pr])\n",
    "                \n",
    "        plt.clf()\n",
    "        self.plot()\n",
    "        \n",
    "    def new_trial(self):\n",
    "        self.data['losses'].append( [ ] )\n",
    "        self.data['label_pr'].append([ [ [] , [] ] for i in range(self.num_labels) ])\n",
    "        self.cur_trial += 1\n",
    "        \n",
    "    def start(self):\n",
    "        plt.figure(figsize=(12, 15))\n",
    "        self.plot()\n",
    "        \n",
    "    def plot(self):\n",
    "        fig = plt.gcf()\n",
    "        gs = fig.add_gridspec(7, 2, width_ratios=[0.8, 1], left=0.05, right=0.95, height_ratios=[2]*7, hspace=2)\n",
    "\n",
    "        ax1 = fig.add_subplot(gs[:, 0])\n",
    "        ax1.set_xlabel('Epochs', labelpad=5)\n",
    "        ax1.set_ylabel('Loss', labelpad=5)\n",
    "        ax1.set_xlim(0, self.epochs)\n",
    "        ax1.set_ylim(0, self.loss_rng)\n",
    "\n",
    "        for trial in range(self.cur_trial):\n",
    "            color = \"blue\"\n",
    "            if trial == self.cur_trial - 1:\n",
    "                color = \"red\"\n",
    "            y = self.data['losses'][trial]\n",
    "            x = list(range(len(y)))\n",
    "            ax1.plot(x, y, color=color)\n",
    "\n",
    "        # Right plots (7 stacked on the right side)\n",
    "        for label in range(7):\n",
    "            ax2 = fig.add_subplot(gs[label, 1])\n",
    "            ax2.set_xlabel(f'Epochs\\n{self.labels[label]}', labelpad=0)\n",
    "            ax2.set_ylabel('Precision\\nrecall', labelpad=0)\n",
    "            ax2.set_xlim(0, 10)\n",
    "            ax2.set_ylim(0, 1.0)\n",
    "            \n",
    "            p_color = \"green\"\n",
    "            r_color = \"blue\"\n",
    "            for trial in range(self.cur_trial):\n",
    "                if trial == self.cur_trial - 1: \n",
    "                    p_color = \"yellow\"\n",
    "                    r_color = \"purple\"\n",
    "                precision_y = self.data['label_pr'][trial][label][0]\n",
    "                recall_y = self.data['label_pr'][trial][label][1]\n",
    "                x = list(range(len(recall_y)))\n",
    "                ax2.plot(x, precision_y, color=p_color)\n",
    "                ax2.plot(x, recall_y, color=r_color)\n",
    "                \n",
    "        # plt.tight_layout()\n",
    "        plt.show()\n",
    "    "
   ]
  },
  {
   "cell_type": "code",
   "execution_count": 3,
   "metadata": {},
   "outputs": [],
   "source": [
    "data = {\n",
    "    'losses': [[0.99,0.99,0.99,0.99,0.99,0.99,0.98,0.9,0.8,0.6,0.5,0.4],\n",
    "               [0.99,0.97,0.99,0.99,0.99,0.99,0.98,0.9,0.85,0.65,0.55,0.45, 0.35]\n",
    "              ],  # trials x epochs (per trial)\n",
    "    'label_pr': [ [ [ [ 0.0, 0.1 ], [ 0.1, 0.2 ] ], [ [ 0.0, 0.1 ], [ 0.1, 0.2 ] ],[ [ 0.0, 0.1 ], [ 0.1, 0.2 ] ],[ [ 0.0, 0.1 ], [ 0.1, 0.2 ] ],[ [ 0.0, 0.1 ], [ 0.1, 0.2 ] ],[ [ 0.0, 0.1 ], [ 0.1, 0.2 ] ],[ [ 0.0, 0.1 ], [ 0.1, 0.2 ] ] ],\n",
    "                  [ [ [ 0.3, 0.4 ], [ 0.4, 0.5 ] ], [ [ 0.3, 0.4 ], [ 0.4, 0.5 ] ], [ [ 0.3, 0.4 ], [ 0.4, 0.5 ] ], [ [ 0.3, 0.4 ], [ 0.4, 0.5 ] ], [ [ 0.3, 0.4 ], [ 0.4, 0.5 ] ], [ [ 0.3, 0.4 ], [ 0.4, 0.5 ] ], [ [ 0.3, 0.4 ], [ 0.4, 0.5 ] ] ] \n",
    "                ] # trials x labels x 2 (p & r) x epoch count(per trial)\n",
    "}\n",
    "labels = [\n",
    "\"background\",\n",
    "\"apo-ferritin (easy)\",\n",
    "\"beta-amylase (impossible, NS)\",\n",
    "\"beta-galactosidase (hard)\",\n",
    "\"ribosome (easy)\",\n",
    "\"thyroglobulin (hard)\",\n",
    "\"virus-like-particle (easy)\"\n",
    "]"
   ]
  },
  {
   "cell_type": "code",
   "execution_count": 4,
   "metadata": {},
   "outputs": [],
   "source": [
    "test_visual = train_visual(50, labels, 1.0)"
   ]
  },
  {
   "cell_type": "code",
   "execution_count": 5,
   "metadata": {},
   "outputs": [],
   "source": [
    "test_visual.set_data(data, 2)"
   ]
  },
  {
   "cell_type": "code",
   "execution_count": 6,
   "metadata": {},
   "outputs": [],
   "source": [
    "test_visual.start()"
   ]
  },
  {
   "cell_type": "code",
   "execution_count": 9,
   "metadata": {},
   "outputs": [],
   "source": [
    "test_visual.report(0.2, [[0.8, 0.9],[0.8, 0.9],[0.8, 0.9],[0.8, 0.9],[0.8, 0.9],[0.8, 0.9],[0.8, 0.9]])\n"
   ]
  },
  {
   "cell_type": "code",
   "execution_count": 8,
   "metadata": {},
   "outputs": [],
   "source": [
    "test_visual.new_trial()"
   ]
  },
  {
   "cell_type": "code",
   "execution_count": 64,
   "metadata": {},
   "outputs": [],
   "source": [
    "labels = [\n",
    "\"background\",\n",
    "\"apo-ferritin (easy)\",\n",
    "\"beta-amylase (impossible, NS)\",\n",
    "\"beta-galactosidase (hard)\",\n",
    "\"ribosome (easy)\",\n",
    "\"thyroglobulin (hard)\",\n",
    "\"virus-like-particle (easy)\"\n",
    "]\n",
    "\n",
    "trial_cnt = 2\n",
    "\n",
    "fig = plt.figure(figsize=(12, 15))\n",
    "\n",
    "gs = fig.add_gridspec(7, 2, width_ratios=[0.8, 1], left=0.05, right=0.95, height_ratios=[2]*7, hspace=2)\n",
    "\n",
    "ax1 = fig.add_subplot(gs[:, 0])\n",
    "ax1.set_xlabel('Epochs', labelpad=5)\n",
    "ax1.set_ylabel('Loss', labelpad=5)\n",
    "ax1.set_xlim(0, 25)\n",
    "ax1.set_ylim(0, 1.0)\n",
    "\n",
    "for trial in range(trial_cnt):\n",
    "    color = \"blue\"\n",
    "    if trial == trial_cnt - 1:\n",
    "        color = \"red\"\n",
    "    y = data['losses'][trial]\n",
    "    x = list(range(len(y)))\n",
    "    ax1.plot(x, y)\n",
    "\n",
    "# Right plots (7 stacked on the right side)\n",
    "for label in range(7):\n",
    "    ax2 = fig.add_subplot(gs[label, 1])\n",
    "    ax2.set_xlabel(f'Epochs\\n{labels[label]}', labelpad=0)\n",
    "    ax2.set_ylabel('Precision\\nrecall', labelpad=0)\n",
    "    ax2.set_xlim(0, 10)\n",
    "    ax2.set_ylim(0, 1.0)\n",
    "    \n",
    "    p_color = \"green\"\n",
    "    r_color = \"blue\"\n",
    "    for trial in range(trial_cnt):\n",
    "        if trial == trial_cnt - 1: \n",
    "            p_color = \"yellow\"\n",
    "            r_color = \"purple\"\n",
    "        precision_y = data['label_pr'][trial][label][0]\n",
    "        recall_y = data['label_pr'][trial][label][1]\n",
    "        x = list(range(len(recall_y)))\n",
    "        ax2.plot(x, precision_y, color=p_color)\n",
    "        ax2.plot(x, recall_y, color=r_color)\n",
    "        \n",
    "# plt.tight_layout()\n",
    "plt.show()"
   ]
  },
  {
   "cell_type": "code",
   "execution_count": 44,
   "metadata": {},
   "outputs": [
    {
     "data": {
      "text/plain": [
       "range(0, 10)"
      ]
     },
     "execution_count": 44,
     "metadata": {},
     "output_type": "execute_result"
    }
   ],
   "source": [
    "range(10).to"
   ]
  }
 ],
 "metadata": {
  "kernelspec": {
   "display_name": "Python 3",
   "language": "python",
   "name": "python3"
  },
  "language_info": {
   "codemirror_mode": {
    "name": "ipython",
    "version": 3
   },
   "file_extension": ".py",
   "mimetype": "text/x-python",
   "name": "python",
   "nbconvert_exporter": "python",
   "pygments_lexer": "ipython3",
   "version": "3.10.6"
  }
 },
 "nbformat": 4,
 "nbformat_minor": 2
}
