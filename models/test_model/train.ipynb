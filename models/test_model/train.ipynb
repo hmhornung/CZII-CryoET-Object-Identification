{
 "cells": [
  {
   "cell_type": "code",
   "execution_count": 1,
   "metadata": {},
   "outputs": [],
   "source": [
    "import torch\n",
    "import torch.utils.data as torch_split\n",
    "import numpy as np\n",
    "import dataset\n",
    "import test\n",
    "import torch\n",
    "import torch.optim as optim\n",
    "import torch.nn as nn\n",
    "from torch.utils.data import DataLoader\n",
    "from monai.losses import DiceLoss\n",
    "from monai.networks.nets import UNet\n",
    "from monai.data import DataLoader\n"
   ]
  },
  {
   "cell_type": "code",
   "execution_count": 2,
   "metadata": {},
   "outputs": [],
   "source": [
    "path = \"H:/Projects/Kaggle/CZII-CryoET-Object-Identification/datasets/3D/dim96-no-corner\"\n",
    "# data = dataset.UNetDataset(path=path)\n",
    "\n",
    "# tv_split = 0.8\n",
    "# trn = int(len(data) * tv_split)\n",
    "# val = len(data) - trn\n",
    "\n",
    "# train_dataset, val_dataset = torch_split.random_split(data, [trn, val])\n",
    "train_dataset = dataset.UNetDataset(path=path, train=True)\n",
    "val_dataset = dataset.UNetDataset(path=path, val=True)"
   ]
  },
  {
   "cell_type": "code",
   "execution_count": 3,
   "metadata": {},
   "outputs": [
    {
     "name": "stderr",
     "output_type": "stream",
     "text": [
      "c:\\Users\\hmhor\\AppData\\Local\\Programs\\Python\\Python310\\lib\\site-packages\\monai\\networks\\nets\\unet.py:130: UserWarning: `len(strides) > len(channels) - 1`, the last 1 values of strides will not be used.\n",
      "  warnings.warn(f\"`len(strides) > len(channels) - 1`, the last {delta} values of strides will not be used.\")\n"
     ]
    },
    {
     "name": "stdout",
     "output_type": "stream",
     "text": [
      "Epoch 1/20 - Train Loss: 0.9238, Val Loss: 0.9140\n",
      "Epoch 2/20 - Train Loss: 0.8955, Val Loss: 0.8938\n",
      "Epoch 3/20 - Train Loss: 0.8726, Val Loss: 0.8755\n"
     ]
    },
    {
     "ename": "KeyboardInterrupt",
     "evalue": "",
     "output_type": "error",
     "traceback": [
      "\u001b[1;31m---------------------------------------------------------------------------\u001b[0m",
      "\u001b[1;31mKeyboardInterrupt\u001b[0m                         Traceback (most recent call last)",
      "Cell \u001b[1;32mIn[3], line 48\u001b[0m\n\u001b[0;32m     41\u001b[0m     optimizer\u001b[38;5;241m.\u001b[39mstep()\n\u001b[0;32m     43\u001b[0m     \u001b[38;5;66;03m# c_loss += loss.item()\u001b[39;00m\n\u001b[0;32m     44\u001b[0m     \u001b[38;5;66;03m# if n % n_batch == 0:\u001b[39;00m\n\u001b[0;32m     45\u001b[0m     \u001b[38;5;66;03m#     print(f\"batch {n-n_batch}-{n} train loss: {c_loss}\")\u001b[39;00m\n\u001b[0;32m     46\u001b[0m     \u001b[38;5;66;03m#     c_loss = 0\u001b[39;00m\n\u001b[1;32m---> 48\u001b[0m     train_loss \u001b[38;5;241m+\u001b[39m\u001b[38;5;241m=\u001b[39m \u001b[43mloss\u001b[49m\u001b[38;5;241;43m.\u001b[39;49m\u001b[43mitem\u001b[49m\u001b[43m(\u001b[49m\u001b[43m)\u001b[49m\n\u001b[0;32m     50\u001b[0m \u001b[38;5;66;03m# Validation loop\u001b[39;00m\n\u001b[0;32m     51\u001b[0m model\u001b[38;5;241m.\u001b[39meval()\n",
      "\u001b[1;31mKeyboardInterrupt\u001b[0m: "
     ]
    }
   ],
   "source": [
    "device = torch.device('cuda' if torch.cuda.is_available() else 'cpu')\n",
    "\n",
    "# Model initialization\n",
    "model = UNet(\n",
    "    spatial_dims=3,\n",
    "    in_channels=1,  # Assuming single-channel input (adjust as needed)\n",
    "    out_channels=7,  # Assuming 7 classes for segmentation (adjust as needed)\n",
    "    channels=(64, 128, 256, 512),\n",
    "    strides=(2, 2, 2, 2),\n",
    "    num_res_units=2,\n",
    ").to(device)\n",
    "\n",
    "# model = test.UNet3D(in_channels = 1, out_channels = 7)\n",
    "\n",
    "# Loss function and optimizer\n",
    "criterion = DiceLoss(to_onehot_y=True, softmax=True).to(device)\n",
    "optimizer = optim.Adam(model.parameters(), lr=1e-4)\n",
    "\n",
    "# DataLoader\n",
    "train_loader = DataLoader(train_dataset, batch_size=16, shuffle=True, collate_fn=dataset.collate_fn)\n",
    "val_loader = DataLoader(val_dataset, batch_size=16, shuffle=False, collate_fn=dataset.collate_fn)\n",
    "\n",
    "n_batch = 5\n",
    "\n",
    "# Training loop\n",
    "num_epochs = 20\n",
    "for epoch in range(num_epochs):\n",
    "    model.train()\n",
    "    train_loss = 0\n",
    "    n = 0\n",
    "    c_loss = 0\n",
    "    for batch in train_loader:\n",
    "        n += 1\n",
    "        inputs, targets = batch['src'].float().to(device), batch['tgt'].long().to(device)\n",
    "        # print(inputs.shape)\n",
    "        optimizer.zero_grad()\n",
    "        outputs = model(inputs)\n",
    "\n",
    "        loss = criterion(outputs, targets)\n",
    "        loss.backward()\n",
    "        optimizer.step()\n",
    "\n",
    "        # c_loss += loss.item()\n",
    "        # if n % n_batch == 0:\n",
    "        #     print(f\"batch {n-n_batch}-{n} train loss: {c_loss}\")\n",
    "        #     c_loss = 0\n",
    "        \n",
    "        train_loss += loss.item()\n",
    "\n",
    "    # Validation loop\n",
    "    model.eval()\n",
    "    val_loss = 0\n",
    "    n = 0\n",
    "    with torch.no_grad():\n",
    "        for batch in val_loader:\n",
    "            n += 1\n",
    "            inputs, targets = batch['src'].float().to(device), batch['tgt'].long().to(device)\n",
    "\n",
    "            outputs = model(inputs)\n",
    "\n",
    "            loss = criterion(outputs, targets)\n",
    "\n",
    "            # print(f\"validation batch {n} done\")\n",
    "            \n",
    "            val_loss += loss.item()\n",
    "\n",
    "    # Print loss for this epoch\n",
    "    train_loss /= len(train_loader)\n",
    "    val_loss /= len(val_loader)\n",
    "    print(f\"Epoch {epoch+1}/{num_epochs} - Train Loss: {train_loss:.4f}, Val Loss: {val_loss:.4f}\")"
   ]
  }
 ],
 "metadata": {
  "kernelspec": {
   "display_name": "Python 3",
   "language": "python",
   "name": "python3"
  },
  "language_info": {
   "codemirror_mode": {
    "name": "ipython",
    "version": 3
   },
   "file_extension": ".py",
   "mimetype": "text/x-python",
   "name": "python",
   "nbconvert_exporter": "python",
   "pygments_lexer": "ipython3",
   "version": "3.10.6"
  }
 },
 "nbformat": 4,
 "nbformat_minor": 2
}
