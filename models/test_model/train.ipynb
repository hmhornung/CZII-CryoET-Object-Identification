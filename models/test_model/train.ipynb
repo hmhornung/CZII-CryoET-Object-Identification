{
 "cells": [
  {
   "cell_type": "code",
   "execution_count": 1,
   "metadata": {},
   "outputs": [],
   "source": [
    "import torch\n",
    "import torch.utils.data as torch_split\n",
    "import numpy as np\n",
    "import dataset\n",
    "import test\n",
    "import torch\n",
    "import torch.optim as optim\n",
    "import torch.nn as nn\n",
    "from torch.utils.data import DataLoader\n",
    "from monai.losses import DiceLoss\n",
    "from monai.networks.nets import UNet\n",
    "from monai.data import DataLoader\n",
    "import sys\n",
    "sys.path.insert(1, 'H:/Projects/Kaggle/CZII-CryoET-Object-Identification/preprocessing')\n"
   ]
  },
  {
   "cell_type": "code",
   "execution_count": 2,
   "metadata": {},
   "outputs": [],
   "source": [
    "path = \"H:/Projects/Kaggle/CZII-CryoET-Object-Identification/datasets/3D/dim96-no-corner\"\n",
    "data = dataset.UNetDataset(path=path)\n",
    "\n",
    "tv_split = 0.8\n",
    "trn = int(len(data) * tv_split)\n",
    "val = len(data) - trn\n",
    "\n",
    "train_dataset, val_dataset = torch_split.random_split(data, [trn, val])\n",
    "# train_dataset = dataset.UNetDataset(path=path, train=True)\n",
    "# val_dataset = dataset.UNetDataset(path=path, val=True)"
   ]
  },
  {
   "cell_type": "code",
   "execution_count": 3,
   "metadata": {},
   "outputs": [
    {
     "name": "stderr",
     "output_type": "stream",
     "text": [
      "[I 2024-12-22 11:30:42,695] A new study created in memory with name: no-name-6e8b94f9-f607-498b-a3fb-39dc953982af\n",
      "C:\\Users\\hmhor\\AppData\\Local\\Temp\\ipykernel_4860\\361824959.py:13: FutureWarning: suggest_loguniform has been deprecated in v3.0.0. This feature will be removed in v6.0.0. See https://github.com/optuna/optuna/releases/tag/v3.0.0. Use suggest_float(..., log=True) instead.\n",
      "  lr = trial.suggest_loguniform(\"lr\", 1e-5, 1e-3)\n",
      "C:\\Users\\hmhor\\AppData\\Local\\Temp\\ipykernel_4860\\361824959.py:15: FutureWarning: suggest_uniform has been deprecated in v3.0.0. This feature will be removed in v6.0.0. See https://github.com/optuna/optuna/releases/tag/v3.0.0. Use suggest_float instead.\n",
      "  dropout = trial.suggest_uniform(\"dropout\", 0.0, 0.5)\n",
      "c:\\Users\\hmhor\\AppData\\Local\\Programs\\Python\\Python310\\lib\\site-packages\\monai\\networks\\nets\\unet.py:130: UserWarning: `len(strides) > len(channels) - 1`, the last 1 values of strides will not be used.\n",
      "  warnings.warn(f\"`len(strides) > len(channels) - 1`, the last {delta} values of strides will not be used.\")\n"
     ]
    },
    {
     "name": "stdout",
     "output_type": "stream",
     "text": [
      "LR: 0.0007690852832005317\tbatch size: 16\tdropout: 0.20627530165636548\treg type: none\treg str: 0\n"
     ]
    },
    {
     "name": "stderr",
     "output_type": "stream",
     "text": [
      "[I 2024-12-22 11:37:38,925] Trial 0 finished with value: 0.7081862275417035 and parameters: {'lr': 0.0007690852832005317, 'batch_size': 16, 'dropout': 0.20627530165636548, 'regularization_type': 'none'}. Best is trial 0 with value: 0.7081862275417035.\n"
     ]
    },
    {
     "name": "stdout",
     "output_type": "stream",
     "text": [
      "Early stopping triggered at epoch 8\n",
      "Validation loss: 0.7081862275417035 after 400 epochs\n",
      "LR: 8.02200311056887e-05\tbatch size: 8\tdropout: 0.38585196148834683\treg type: L1\treg str: 0.000561752035750931\n"
     ]
    },
    {
     "name": "stderr",
     "output_type": "stream",
     "text": [
      "C:\\Users\\hmhor\\AppData\\Local\\Temp\\ipykernel_4860\\361824959.py:20: FutureWarning: suggest_loguniform has been deprecated in v3.0.0. This feature will be removed in v6.0.0. See https://github.com/optuna/optuna/releases/tag/v3.0.0. Use suggest_float(..., log=True) instead.\n",
      "  regularization_strength = trial.suggest_loguniform(\"regularization_strength\", 1e-5, 1e-3)\n",
      "[I 2024-12-22 11:43:47,207] Trial 1 finished with value: 0.8221715784072876 and parameters: {'lr': 8.02200311056887e-05, 'batch_size': 8, 'dropout': 0.38585196148834683, 'regularization_type': 'L1', 'regularization_strength': 0.000561752035750931}. Best is trial 0 with value: 0.7081862275417035.\n"
     ]
    },
    {
     "name": "stdout",
     "output_type": "stream",
     "text": [
      "Early stopping triggered at epoch 7\n",
      "Validation loss: 0.8221715784072876 after 700 epochs\n",
      "LR: 2.5814446343747655e-05\tbatch size: 16\tdropout: 0.3886212905293643\treg type: none\treg str: 0\n"
     ]
    },
    {
     "name": "stderr",
     "output_type": "stream",
     "text": [
      "[I 2024-12-22 11:56:45,774] Trial 2 finished with value: 0.8416277399429908 and parameters: {'lr': 2.5814446343747655e-05, 'batch_size': 16, 'dropout': 0.3886212905293643, 'regularization_type': 'none'}. Best is trial 0 with value: 0.7081862275417035.\n"
     ]
    },
    {
     "name": "stdout",
     "output_type": "stream",
     "text": [
      "Validation loss: 0.8416277399429908 after 750 epochs\n",
      "LR: 2.160379804543174e-05\tbatch size: 4\tdropout: 0.38926445786989194\treg type: L1\treg str: 0.00010899501786911792\n"
     ]
    },
    {
     "name": "stderr",
     "output_type": "stream",
     "text": [
      "[I 2024-12-22 12:10:18,949] Trial 3 finished with value: 0.7470451152324676 and parameters: {'lr': 2.160379804543174e-05, 'batch_size': 4, 'dropout': 0.38926445786989194, 'regularization_type': 'L1', 'regularization_strength': 0.00010899501786911792}. Best is trial 0 with value: 0.7081862275417035.\n"
     ]
    },
    {
     "name": "stdout",
     "output_type": "stream",
     "text": [
      "Validation loss: 0.7470451152324676 after 2985 epochs\n",
      "LR: 1.4122494303203815e-05\tbatch size: 4\tdropout: 0.31329520642911346\treg type: L1\treg str: 3.7326680106871646e-05\n"
     ]
    },
    {
     "name": "stderr",
     "output_type": "stream",
     "text": [
      "[I 2024-12-22 12:19:06,155] Trial 4 finished with value: 0.8379334139823914 and parameters: {'lr': 1.4122494303203815e-05, 'batch_size': 4, 'dropout': 0.31329520642911346, 'regularization_type': 'L1', 'regularization_strength': 3.7326680106871646e-05}. Best is trial 0 with value: 0.7081862275417035.\n"
     ]
    },
    {
     "name": "stdout",
     "output_type": "stream",
     "text": [
      "Early stopping triggered at epoch 10\n",
      "Validation loss: 0.8379334139823914 after 1990 epochs\n",
      "LR: 4.908826331340077e-05\tbatch size: 16\tdropout: 0.04782889900625786\treg type: L2\treg str: 0.00010664495004807392\n"
     ]
    },
    {
     "name": "stderr",
     "output_type": "stream",
     "text": [
      "[I 2024-12-22 12:31:20,458] Trial 5 finished with value: 0.7503093297664936 and parameters: {'lr': 4.908826331340077e-05, 'batch_size': 16, 'dropout': 0.04782889900625786, 'regularization_type': 'L2', 'regularization_strength': 0.00010664495004807392}. Best is trial 0 with value: 0.7081862275417035.\n"
     ]
    },
    {
     "name": "stdout",
     "output_type": "stream",
     "text": [
      "Validation loss: 0.7503093297664936 after 750 epochs\n",
      "LR: 8.98074633410313e-05\tbatch size: 8\tdropout: 0.3329289582515136\treg type: L2\treg str: 0.00010828447370348184\n"
     ]
    },
    {
     "name": "stderr",
     "output_type": "stream",
     "text": [
      "[I 2024-12-22 12:41:26,241] Trial 6 finished with value: 0.6713182854652405 and parameters: {'lr': 8.98074633410313e-05, 'batch_size': 8, 'dropout': 0.3329289582515136, 'regularization_type': 'L2', 'regularization_strength': 0.00010828447370348184}. Best is trial 6 with value: 0.6713182854652405.\n"
     ]
    },
    {
     "name": "stdout",
     "output_type": "stream",
     "text": [
      "Validation loss: 0.6713182854652405 after 1500 epochs\n",
      "LR: 3.0585090990070275e-05\tbatch size: 4\tdropout: 0.446570343495282\treg type: L2\treg str: 1.138249597272998e-05\n"
     ]
    },
    {
     "name": "stderr",
     "output_type": "stream",
     "text": [
      "[I 2024-12-22 12:51:24,421] Trial 7 finished with value: 0.7294552326202393 and parameters: {'lr': 3.0585090990070275e-05, 'batch_size': 4, 'dropout': 0.446570343495282, 'regularization_type': 'L2', 'regularization_strength': 1.138249597272998e-05}. Best is trial 6 with value: 0.6713182854652405.\n"
     ]
    },
    {
     "name": "stdout",
     "output_type": "stream",
     "text": [
      "Validation loss: 0.7294552326202393 after 2985 epochs\n",
      "LR: 1.6818119268303073e-05\tbatch size: 16\tdropout: 0.20991155717642673\treg type: L2\treg str: 0.0004180013351355291\n"
     ]
    },
    {
     "name": "stderr",
     "output_type": "stream",
     "text": [
      "[I 2024-12-22 13:04:16,890] Trial 8 finished with value: 0.8550590322567866 and parameters: {'lr': 1.6818119268303073e-05, 'batch_size': 16, 'dropout': 0.20991155717642673, 'regularization_type': 'L2', 'regularization_strength': 0.0004180013351355291}. Best is trial 6 with value: 0.6713182854652405.\n"
     ]
    },
    {
     "name": "stdout",
     "output_type": "stream",
     "text": [
      "Validation loss: 0.8550590322567866 after 750 epochs\n",
      "LR: 0.0004836871643785142\tbatch size: 8\tdropout: 0.047232011802912255\treg type: L2\treg str: 0.0003674062788900352\n"
     ]
    },
    {
     "name": "stderr",
     "output_type": "stream",
     "text": [
      "[I 2024-12-22 13:13:46,712] Trial 9 finished with value: 0.6730712532997132 and parameters: {'lr': 0.0004836871643785142, 'batch_size': 8, 'dropout': 0.047232011802912255, 'regularization_type': 'L2', 'regularization_strength': 0.0003674062788900352}. Best is trial 6 with value: 0.6713182854652405.\n"
     ]
    },
    {
     "name": "stdout",
     "output_type": "stream",
     "text": [
      "Early stopping triggered at epoch 11\n",
      "Validation loss: 0.6730712532997132 after 1100 epochs\n",
      "LR: 0.00020851804861614929\tbatch size: 8\tdropout: 0.15916864328583366\treg type: L2\treg str: 3.534330338279551e-05\n"
     ]
    },
    {
     "name": "stderr",
     "output_type": "stream",
     "text": [
      "[I 2024-12-22 13:24:52,511] Trial 10 finished with value: 0.6503513836860657 and parameters: {'lr': 0.00020851804861614929, 'batch_size': 8, 'dropout': 0.15916864328583366, 'regularization_type': 'L2', 'regularization_strength': 3.534330338279551e-05}. Best is trial 10 with value: 0.6503513836860657.\n"
     ]
    },
    {
     "name": "stdout",
     "output_type": "stream",
     "text": [
      "Validation loss: 0.6503513836860657 after 1500 epochs\n",
      "LR: 0.00023769047886156396\tbatch size: 8\tdropout: 0.18175362635232617\treg type: L2\treg str: 4.3382030915381155e-05\n"
     ]
    },
    {
     "name": "stderr",
     "output_type": "stream",
     "text": [
      "[I 2024-12-22 13:33:55,123] Trial 11 finished with value: 0.6538152027130127 and parameters: {'lr': 0.00023769047886156396, 'batch_size': 8, 'dropout': 0.18175362635232617, 'regularization_type': 'L2', 'regularization_strength': 4.3382030915381155e-05}. Best is trial 10 with value: 0.6503513836860657.\n"
     ]
    },
    {
     "name": "stdout",
     "output_type": "stream",
     "text": [
      "Early stopping triggered at epoch 14\n",
      "Validation loss: 0.6538152027130127 after 1400 epochs\n",
      "LR: 0.0002568970689663098\tbatch size: 8\tdropout: 0.1345357290524775\treg type: L2\treg str: 2.6229315472367273e-05\n"
     ]
    },
    {
     "name": "stderr",
     "output_type": "stream",
     "text": [
      "[I 2024-12-22 13:41:39,750] Trial 12 finished with value: 0.6608428263664246 and parameters: {'lr': 0.0002568970689663098, 'batch_size': 8, 'dropout': 0.1345357290524775, 'regularization_type': 'L2', 'regularization_strength': 2.6229315472367273e-05}. Best is trial 10 with value: 0.6503513836860657.\n"
     ]
    },
    {
     "name": "stdout",
     "output_type": "stream",
     "text": [
      "Early stopping triggered at epoch 12\n",
      "Validation loss: 0.6608428263664246 after 1200 epochs\n",
      "LR: 0.0002153282815777213\tbatch size: 8\tdropout: 0.1364441202721979\treg type: L2\treg str: 3.8485051714922073e-05\n"
     ]
    },
    {
     "name": "stderr",
     "output_type": "stream",
     "text": [
      "[I 2024-12-22 13:48:07,035] Trial 13 finished with value: 0.6745794796943665 and parameters: {'lr': 0.0002153282815777213, 'batch_size': 8, 'dropout': 0.1364441202721979, 'regularization_type': 'L2', 'regularization_strength': 3.8485051714922073e-05}. Best is trial 10 with value: 0.6503513836860657.\n"
     ]
    },
    {
     "name": "stdout",
     "output_type": "stream",
     "text": [
      "Early stopping triggered at epoch 10\n",
      "Validation loss: 0.6745794796943665 after 1000 epochs\n",
      "LR: 0.00016787493248612858\tbatch size: 8\tdropout: 0.14651442752120203\treg type: L2\treg str: 1.6389156017103606e-05\n"
     ]
    },
    {
     "name": "stderr",
     "output_type": "stream",
     "text": [
      "[I 2024-12-22 13:57:15,113] Trial 14 finished with value: 0.6887184810638428 and parameters: {'lr': 0.00016787493248612858, 'batch_size': 8, 'dropout': 0.14651442752120203, 'regularization_type': 'L2', 'regularization_strength': 1.6389156017103606e-05}. Best is trial 10 with value: 0.6503513836860657.\n"
     ]
    },
    {
     "name": "stdout",
     "output_type": "stream",
     "text": [
      "Early stopping triggered at epoch 13\n",
      "Validation loss: 0.6887184810638428 after 1300 epochs\n",
      "LR: 0.0004088366985777809\tbatch size: 8\tdropout: 0.2621971393883426\treg type: none\treg str: 0\n"
     ]
    },
    {
     "name": "stderr",
     "output_type": "stream",
     "text": [
      "[I 2024-12-22 14:10:00,408] Trial 15 finished with value: 0.6498052048683166 and parameters: {'lr': 0.0004088366985777809, 'batch_size': 8, 'dropout': 0.2621971393883426, 'regularization_type': 'none'}. Best is trial 15 with value: 0.6498052048683166.\n"
     ]
    },
    {
     "name": "stdout",
     "output_type": "stream",
     "text": [
      "Early stopping triggered at epoch 15\n",
      "Validation loss: 0.6498052048683166 after 1500 epochs\n",
      "LR: 0.0005294217889192675\tbatch size: 8\tdropout: 0.2809754233475264\treg type: none\treg str: 0\n"
     ]
    },
    {
     "name": "stderr",
     "output_type": "stream",
     "text": [
      "[I 2024-12-22 14:20:36,219] Trial 16 finished with value: 0.6547260951995849 and parameters: {'lr': 0.0005294217889192675, 'batch_size': 8, 'dropout': 0.2809754233475264, 'regularization_type': 'none'}. Best is trial 15 with value: 0.6498052048683166.\n"
     ]
    },
    {
     "name": "stdout",
     "output_type": "stream",
     "text": [
      "Early stopping triggered at epoch 13\n",
      "Validation loss: 0.6547260951995849 after 1300 epochs\n",
      "LR: 0.0009590308360720139\tbatch size: 8\tdropout: 0.09738479566681933\treg type: none\treg str: 0\n"
     ]
    },
    {
     "name": "stderr",
     "output_type": "stream",
     "text": [
      "[I 2024-12-22 14:25:43,287] Trial 17 finished with value: 0.6857056212425232 and parameters: {'lr': 0.0009590308360720139, 'batch_size': 8, 'dropout': 0.09738479566681933, 'regularization_type': 'none'}. Best is trial 15 with value: 0.6498052048683166.\n"
     ]
    },
    {
     "name": "stdout",
     "output_type": "stream",
     "text": [
      "Early stopping triggered at epoch 8\n",
      "Validation loss: 0.6857056212425232 after 800 epochs\n",
      "LR: 0.0004052327448167833\tbatch size: 8\tdropout: 0.24336470545748473\treg type: none\treg str: 0\n"
     ]
    },
    {
     "name": "stderr",
     "output_type": "stream",
     "text": [
      "[I 2024-12-22 14:33:25,377] Trial 18 finished with value: 0.6622527933120728 and parameters: {'lr': 0.0004052327448167833, 'batch_size': 8, 'dropout': 0.24336470545748473, 'regularization_type': 'none'}. Best is trial 15 with value: 0.6498052048683166.\n"
     ]
    },
    {
     "name": "stdout",
     "output_type": "stream",
     "text": [
      "Early stopping triggered at epoch 12\n",
      "Validation loss: 0.6622527933120728 after 1200 epochs\n",
      "LR: 0.0001240640157381763\tbatch size: 4\tdropout: 0.2632929365448615\treg type: none\treg str: 0\n"
     ]
    },
    {
     "name": "stderr",
     "output_type": "stream",
     "text": [
      "[I 2024-12-22 14:44:03,051] Trial 19 finished with value: 0.6611132884025573 and parameters: {'lr': 0.0001240640157381763, 'batch_size': 4, 'dropout': 0.2632929365448615, 'regularization_type': 'none'}. Best is trial 15 with value: 0.6498052048683166.\n"
     ]
    },
    {
     "name": "stdout",
     "output_type": "stream",
     "text": [
      "Early stopping triggered at epoch 13\n",
      "Validation loss: 0.6611132884025573 after 2587 epochs\n",
      "LR: 0.00035369642211035966\tbatch size: 8\tdropout: 0.007353364898175535\treg type: none\treg str: 0\n"
     ]
    },
    {
     "name": "stderr",
     "output_type": "stream",
     "text": [
      "[I 2024-12-22 14:47:53,531] Trial 20 finished with value: 0.7126597714424133 and parameters: {'lr': 0.00035369642211035966, 'batch_size': 8, 'dropout': 0.007353364898175535, 'regularization_type': 'none'}. Best is trial 15 with value: 0.6498052048683166.\n"
     ]
    },
    {
     "name": "stdout",
     "output_type": "stream",
     "text": [
      "Early stopping triggered at epoch 6\n",
      "Validation loss: 0.7126597714424133 after 600 epochs\n",
      "LR: 0.00025795459593388505\tbatch size: 8\tdropout: 0.18800602411646955\treg type: L2\treg str: 5.3601336211126e-05\n"
     ]
    },
    {
     "name": "stderr",
     "output_type": "stream",
     "text": [
      "[I 2024-12-22 14:56:15,160] Trial 21 finished with value: 0.6547290349006653 and parameters: {'lr': 0.00025795459593388505, 'batch_size': 8, 'dropout': 0.18800602411646955, 'regularization_type': 'L2', 'regularization_strength': 5.3601336211126e-05}. Best is trial 15 with value: 0.6498052048683166.\n"
     ]
    },
    {
     "name": "stdout",
     "output_type": "stream",
     "text": [
      "Early stopping triggered at epoch 13\n",
      "Validation loss: 0.6547290349006653 after 1300 epochs\n",
      "LR: 0.00012770574121546735\tbatch size: 8\tdropout: 0.1759972497951609\treg type: L2\treg str: 6.223502829884042e-05\n"
     ]
    },
    {
     "name": "stderr",
     "output_type": "stream",
     "text": [
      "[I 2024-12-22 15:07:45,942] Trial 22 finished with value: 0.671155903339386 and parameters: {'lr': 0.00012770574121546735, 'batch_size': 8, 'dropout': 0.1759972497951609, 'regularization_type': 'L2', 'regularization_strength': 6.223502829884042e-05}. Best is trial 15 with value: 0.6498052048683166.\n"
     ]
    },
    {
     "name": "stdout",
     "output_type": "stream",
     "text": [
      "Early stopping triggered at epoch 15\n",
      "Validation loss: 0.671155903339386 after 1500 epochs\n",
      "LR: 0.00018330211028207545\tbatch size: 8\tdropout: 0.09018376947727601\treg type: L1\treg str: 0.0002595641269967224\n"
     ]
    },
    {
     "name": "stderr",
     "output_type": "stream",
     "text": [
      "[I 2024-12-22 15:15:31,993] Trial 23 finished with value: 0.7843618059158325 and parameters: {'lr': 0.00018330211028207545, 'batch_size': 8, 'dropout': 0.09018376947727601, 'regularization_type': 'L1', 'regularization_strength': 0.0002595641269967224}. Best is trial 15 with value: 0.6498052048683166.\n"
     ]
    },
    {
     "name": "stdout",
     "output_type": "stream",
     "text": [
      "Early stopping triggered at epoch 9\n",
      "Validation loss: 0.7843618059158325 after 900 epochs\n",
      "LR: 0.00032731036287932553\tbatch size: 8\tdropout: 0.24536040493307815\treg type: L2\treg str: 2.0610968568687057e-05\n"
     ]
    },
    {
     "name": "stderr",
     "output_type": "stream",
     "text": [
      "[I 2024-12-22 15:28:26,822] Trial 24 finished with value: 0.6468523573875428 and parameters: {'lr': 0.00032731036287932553, 'batch_size': 8, 'dropout': 0.24536040493307815, 'regularization_type': 'L2', 'regularization_strength': 2.0610968568687057e-05}. Best is trial 24 with value: 0.6468523573875428.\n"
     ]
    },
    {
     "name": "stdout",
     "output_type": "stream",
     "text": [
      "Validation loss: 0.6468523573875428 after 1500 epochs\n",
      "Best hyperparameters: {'lr': 0.00032731036287932553, 'batch_size': 8, 'dropout': 0.24536040493307815, 'regularization_type': 'L2', 'regularization_strength': 2.0610968568687057e-05}\n"
     ]
    }
   ],
   "source": [
    "import optuna\n",
    "import torch\n",
    "from torch.utils.data import DataLoader\n",
    "from torch.optim import Adam\n",
    "from monai.losses import DiceLoss\n",
    "from monai.networks.nets import UNet\n",
    "\n",
    "# Define the objective function for Optuna\n",
    "def objective(trial):\n",
    "    device = torch.device('cuda' if torch.cuda.is_available() else 'cpu')\n",
    "\n",
    "    # Hyperparameters to optimize\n",
    "    lr = trial.suggest_loguniform(\"lr\", 1e-5, 1e-3)\n",
    "    batch_size = trial.suggest_categorical(\"batch_size\", [4, 8, 16])\n",
    "    dropout = trial.suggest_uniform(\"dropout\", 0.0, 0.5)\n",
    "    regularization_type = trial.suggest_categorical(\"regularization_type\", [\"none\", \"L1\", \"L2\"])\n",
    "\n",
    "    # Suggest regularization strength only if regularization is used\n",
    "    if regularization_type != \"none\":\n",
    "        regularization_strength = trial.suggest_loguniform(\"regularization_strength\", 1e-5, 1e-3)\n",
    "    else:\n",
    "        regularization_strength = 0  # No regularization if \"none\"\n",
    "\n",
    "    print(f\"LR: {lr}\\tbatch size: {batch_size}\\tdropout: {dropout}\\treg type: {regularization_type}\\treg str: {regularization_strength}\")\n",
    "    \n",
    "    # Model initialization\n",
    "    model = UNet(\n",
    "        spatial_dims=3,\n",
    "        in_channels=1,\n",
    "        out_channels=7,\n",
    "        channels=(64, 128, 256, 512),\n",
    "        strides=(2, 2, 2, 2),\n",
    "        num_res_units=2,\n",
    "        dropout=dropout,\n",
    "    ).to(device)\n",
    "\n",
    "    # Loss function and optimizer\n",
    "    criterion = DiceLoss(to_onehot_y=True, softmax=True).to(device)\n",
    "    optimizer = Adam(model.parameters(), lr=lr)\n",
    "\n",
    "    # DataLoader (update batch size)\n",
    "    train_loader = DataLoader(train_dataset, batch_size=batch_size, collate_fn=dataset.collate_fn, shuffle=True, num_workers=4)\n",
    "    val_loader = DataLoader(val_dataset, batch_size=batch_size, collate_fn=dataset.collate_fn, shuffle=False, num_workers=4)\n",
    "\n",
    "    # Regularization setup\n",
    "    def add_regularization_loss(model, regularization_type, regularization_strength):\n",
    "        reg_loss = 0\n",
    "        if regularization_type == \"L1\":\n",
    "            for param in model.parameters():\n",
    "                reg_loss += torch.sum(torch.abs(param))\n",
    "        elif regularization_type == \"L2\":\n",
    "            for param in model.parameters():\n",
    "                reg_loss += torch.sum(param ** 2)\n",
    "        return regularization_strength * reg_loss\n",
    "\n",
    "    # Early stopping parameters\n",
    "    patience = 2\n",
    "    best_val_loss = float('inf')\n",
    "    epochs_without_improvement = 0\n",
    "    elapsed = 0\n",
    "\n",
    "    # Training loop\n",
    "    num_epochs = 15  # Shorten for quicker optimization\n",
    "    for epoch in range(num_epochs):\n",
    "        model.train()\n",
    "        for batch in train_loader:\n",
    "            elapsed += 1\n",
    "            \n",
    "            inputs, targets = batch['src'].float().to(device), batch['tgt'].long().to(device)\n",
    "            optimizer.zero_grad()\n",
    "            outputs = model(inputs)\n",
    "            loss = criterion(outputs, targets)\n",
    "\n",
    "            # Add regularization loss if applicable\n",
    "            if regularization_type != \"none\":\n",
    "                reg_loss = add_regularization_loss(model, regularization_type, regularization_strength)\n",
    "                loss += reg_loss\n",
    "\n",
    "            loss.backward()\n",
    "            optimizer.step()\n",
    "\n",
    "        # Validation loop\n",
    "        model.eval()\n",
    "        val_loss = 0\n",
    "        with torch.no_grad():\n",
    "            for batch in val_loader:\n",
    "                inputs, targets = batch['src'].float().to(device), batch['tgt'].long().to(device)\n",
    "                outputs = model(inputs)\n",
    "                loss = criterion(outputs, targets)\n",
    "                val_loss += loss.item()\n",
    "\n",
    "        val_loss /= len(val_loader)\n",
    "\n",
    "        # Early stopping check\n",
    "        if val_loss <= best_val_loss * 0.99:\n",
    "            best_val_loss = val_loss\n",
    "            epochs_without_improvement = 0\n",
    "        else:\n",
    "            epochs_without_improvement += 1\n",
    "            if epochs_without_improvement >= patience:\n",
    "                print(f\"Early stopping triggered at epoch {epoch + 1}\")\n",
    "                break\n",
    "    print(f\"Validation loss: {best_val_loss} after {elapsed} epochs\")\n",
    "    return best_val_loss\n",
    "\n",
    "# Run the Optuna optimization\n",
    "study = optuna.create_study(direction=\"minimize\")\n",
    "study.optimize(objective, n_trials=25)\n",
    "\n",
    "# Print the best parameters\n",
    "print(\"Best hyperparameters:\", study.best_params)"
   ]
  },
  {
   "cell_type": "code",
   "execution_count": null,
   "metadata": {},
   "outputs": [],
   "source": [
    "import numpy as np\n",
    "from ipywidgets import interact\n",
    "import augment\n",
    "import load\n",
    "import matplotlib.pyplot as plt\n",
    "\n",
    "\n",
    "root = load.get_root()\n",
    "\n",
    "picks = load.get_picks_dict(root)\n",
    "\n",
    "vol, coords, scales = load.get_run_volume_picks(root, level=0)\n",
    "\n",
    "mask = load.get_picks_mask(vol.shape, picks, coords, int(scales[0]))"
   ]
  },
  {
   "cell_type": "code",
   "execution_count": 26,
   "metadata": {},
   "outputs": [
    {
     "name": "stdout",
     "output_type": "stream",
     "text": [
      "# Particles Types Represented: 4\n",
      "# Particles Types Predicted: 6\n"
     ]
    },
    {
     "data": {
      "application/vnd.jupyter.widget-view+json": {
       "model_id": "9d6cbda450ab4f658c008fe129d572b7",
       "version_major": 2,
       "version_minor": 0
      },
      "text/plain": [
       "interactive(children=(IntSlider(value=47, description='i', max=95), Output()), _dom_classes=('widget-interact'…"
      ]
     },
     "metadata": {},
     "output_type": "display_data"
    },
    {
     "data": {
      "text/plain": [
       "<function __main__.plot_cross_section(i)>"
      ]
     },
     "execution_count": 26,
     "metadata": {},
     "output_type": "execute_result"
    }
   ],
   "source": [
    "params = augment.aug_params\n",
    "params['patch_size'] = (96,96,96)\n",
    "params['final_size'] = (96,96,96)\n",
    "params['flip_prob'] - 0.0\n",
    "params['rot_prob'] = 0.0\n",
    "params['rot_range'] = 0.0\n",
    "\n",
    "\n",
    "\n",
    "samples = augment.random_augmentation(vol, mask, num_samples=1, aug_params=params)\n",
    "\n",
    "model.eval()\n",
    "\n",
    "inp = np.array(samples[0][\"source\"].unsqueeze(0).unsqueeze(0))\n",
    "inp = torch.from_numpy(inp).to(device)\n",
    "pred_mask = model(inp)\n",
    "\n",
    "src = samples[0]['source']\n",
    "tgt = samples[0]['target']  # Mask with interest points (non-zero values)\n",
    "\n",
    "pred_tgt = pred_mask.squeeze().cpu().detach()\n",
    "\n",
    "\n",
    "pred_tgt = torch.argmax(pred_tgt, dim = 0).numpy()\n",
    "\n",
    "\n",
    "print(f'# Particles Types Represented: {len(np.unique(tgt)) - 1}')\n",
    "print(f'# Particles Types Predicted: {len(np.unique(pred_tgt)) - 1}')\n",
    "\n",
    "\n",
    "def plot_cross_section(i):\n",
    "    plot_vol = tgt\n",
    "    plot_mask = pred_tgt\n",
    "    \n",
    "    plt.figure(figsize=(15, 5))\n",
    "    alpha = 0.3\n",
    "\n",
    "    # Slice at x-coordinate\n",
    "    plt.subplot(131)\n",
    "    plt.imshow(plot_vol[i, :, :], cmap=\"viridis\")\n",
    "    plt.imshow(plot_mask[i, :, :], cmap=\"Reds\", alpha=alpha)  # Overlay mask with transparency\n",
    "    plt.title(f'Slice at x={i}')\n",
    "\n",
    "    # Slice at y-coordinate\n",
    "    plt.subplot(132)\n",
    "    plt.imshow(plot_vol[:, i, :], cmap=\"viridis\")\n",
    "    plt.imshow(plot_mask[:, i, :], cmap=\"Reds\", alpha=alpha)\n",
    "    plt.title(f'Slice at y={i}')\n",
    "\n",
    "    # Slice at z-coordinate\n",
    "    plt.subplot(133)\n",
    "    plt.imshow(plot_vol[:, :, i], cmap=\"viridis\")\n",
    "    plt.imshow(plot_mask[:, :, i], cmap=\"Reds\", alpha=alpha)\n",
    "    plt.title(f'Slice at z={i}')\n",
    "\n",
    "    plt.show()\n",
    "\n",
    "# Interactive Slider for scrolling through slices\n",
    "interact(plot_cross_section, i=(0, tgt.shape[0] - 1))"
   ]
  }
 ],
 "metadata": {
  "kernelspec": {
   "display_name": "Python 3",
   "language": "python",
   "name": "python3"
  },
  "language_info": {
   "codemirror_mode": {
    "name": "ipython",
    "version": 3
   },
   "file_extension": ".py",
   "mimetype": "text/x-python",
   "name": "python",
   "nbconvert_exporter": "python",
   "pygments_lexer": "ipython3",
   "version": "3.10.6"
  }
 },
 "nbformat": 4,
 "nbformat_minor": 2
}
