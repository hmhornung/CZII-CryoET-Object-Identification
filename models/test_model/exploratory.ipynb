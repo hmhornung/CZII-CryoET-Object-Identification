{
 "cells": [
  {
   "cell_type": "code",
   "execution_count": 1,
   "metadata": {},
   "outputs": [],
   "source": [
    "import torch\n",
    "import torch.utils.data as torch_split\n",
    "import numpy as np\n",
    "import dataset\n",
    "import test\n",
    "import torch\n",
    "import torch.optim as optim\n",
    "import torch.nn as nn\n",
    "from torch.utils.data import DataLoader\n",
    "from monai.losses import DiceLoss\n",
    "from monai.networks.nets import UNet\n",
    "from monai.data import DataLoader\n",
    "import sys\n",
    "sys.path.insert(1, 'H:/Projects/Kaggle/CZII-CryoET-Object-Identification/preprocessing')"
   ]
  },
  {
   "cell_type": "code",
   "execution_count": 2,
   "metadata": {},
   "outputs": [],
   "source": [
    "path = \"H:/Projects/Kaggle/CZII-CryoET-Object-Identification/datasets/3D/dim104-3000sample\"\n",
    "data = dataset.UNetDataset(path=path)\n",
    "\n",
    "train_loader = DataLoader(data, len(data), collate_fn=dataset.collate_fn)\n"
   ]
  },
  {
   "cell_type": "code",
   "execution_count": 3,
   "metadata": {},
   "outputs": [],
   "source": [
    "labels = range(7)\n",
    "for batch in train_loader:\n",
    "    dist = np.unique(batch['tgt'], return_counts = True)\n",
    "    labels = dist[0]\n",
    "    occ = dist[1]\n",
    "    total = np.sum(occ)\n",
    "    freq = occ / total"
   ]
  },
  {
   "cell_type": "code",
   "execution_count": 5,
   "metadata": {},
   "outputs": [
    {
     "name": "stdout",
     "output_type": "stream",
     "text": [
      "[0 1 2 3 4 5 6]\n",
      "[846656862    911366    427703   1157029  17980700   8390920   3903004]\n",
      "879427584\n",
      "0: 0.963\n",
      "1: 0.00104\n",
      "2: 0.000486\n",
      "3: 0.00132\n",
      "4: 0.0204\n",
      "5: 0.00954\n",
      "6: 0.00444\n"
     ]
    }
   ],
   "source": [
    "# dist = np.unique([0,0,0,0,1,1,2,2,2,33,4,5], return_counts=True)\n",
    "# labels = dist[0]\n",
    "# occ = dist[1]\n",
    "# total = np.sum(occ)\n",
    "# freq = occ / total\n",
    "print(labels)\n",
    "print(occ)\n",
    "print(total)\n",
    "for i, f in enumerate(freq): print(f\"{i}: {f:.3g}\")"
   ]
  },
  {
   "cell_type": "code",
   "execution_count": 7,
   "metadata": {},
   "outputs": [
    {
     "name": "stdout",
     "output_type": "stream",
     "text": [
      "[0.00621062 0.16649395 0.16658561 0.16644739 0.16325901 0.16507644\n",
      " 0.16592698]\n",
      "[0.04347431 1.16545763 1.16609927 1.16513173 1.1428131  1.1555351\n",
      " 1.16148886]\n"
     ]
    }
   ],
   "source": [
    "inv_freq = 1 - freq\n",
    "sum_weights = sum(inv_freq)\n",
    "num_labels = len(inv_freq)\n",
    "norm_weights = inv_freq / sum_weights * num_labels\n",
    "print(inv_freq / sum_weights)\n",
    "print(norm_weights)"
   ]
  },
  {
   "cell_type": "code",
   "execution_count": 29,
   "metadata": {},
   "outputs": [
    {
     "name": "stdout",
     "output_type": "stream",
     "text": [
      "0.0434743, 1.16546, 1.1661, 1.16513, 1.14281, 1.15554, 1.16149, "
     ]
    }
   ],
   "source": [
    "for i, f in enumerate(norm_weights): print(f\"{(f):.6g}, \", end=\"\")"
   ]
  }
 ],
 "metadata": {
  "kernelspec": {
   "display_name": "Python 3",
   "language": "python",
   "name": "python3"
  },
  "language_info": {
   "codemirror_mode": {
    "name": "ipython",
    "version": 3
   },
   "file_extension": ".py",
   "mimetype": "text/x-python",
   "name": "python",
   "nbconvert_exporter": "python",
   "pygments_lexer": "ipython3",
   "version": "3.10.6"
  }
 },
 "nbformat": 4,
 "nbformat_minor": 2
}
