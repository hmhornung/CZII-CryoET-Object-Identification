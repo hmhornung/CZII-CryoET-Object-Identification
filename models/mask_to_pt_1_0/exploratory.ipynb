{
 "cells": [
  {
   "cell_type": "code",
   "execution_count": 57,
   "metadata": {},
   "outputs": [],
   "source": [
    "# Inference\n",
    "import sys\n",
    "sys.path.insert(1, 'H:/Projects/Kaggle/CZII-CryoET-Object-Identification/preprocessing')\n",
    "sys.path.insert(1, 'H:/Projects/Kaggle/CZII-CryoET-Object-Identification/postprocessing')\n",
    "import load\n",
    "import augment\n",
    "import os\n",
    "import torch\n",
    "import numpy as np\n",
    "from monai.networks.nets import UNet\n",
    "import metrics"
   ]
  },
  {
   "cell_type": "code",
   "execution_count": 2,
   "metadata": {},
   "outputs": [],
   "source": [
    "root = load.get_root()\n",
    "\n",
    "picks = load.get_picks_dict(root)\n",
    "\n",
    "runs = os.listdir('H:/Projects/Kaggle/CZII-CryoET-Object-Identification/data/train/static/ExperimentRuns')\n",
    "run = 'TS_6_4'"
   ]
  },
  {
   "cell_type": "code",
   "execution_count": 3,
   "metadata": {},
   "outputs": [],
   "source": [
    "vol, coords, scales = load.get_run_volume_picks(root, run=run, level=0)\n",
    "mask = load.get_picks_mask(vol.shape, picks, coords, int(scales[0]))\n",
    "points = load.get_picks_mask(vol.shape, picks, coords, int(scales[0]), pts=True)\n"
   ]
  },
  {
   "cell_type": "code",
   "execution_count": 4,
   "metadata": {},
   "outputs": [],
   "source": [
    "params = augment.aug_params\n",
    "params[\"final_size\"] = (104,104,104)\n",
    "params[\"flip_prob\"] = 0.0\n",
    "params[\"patch_size\"] = (104,104,104)\n",
    "params[\"rot_prob\"] = 0.0"
   ]
  },
  {
   "cell_type": "code",
   "execution_count": 37,
   "metadata": {},
   "outputs": [
    {
     "name": "stdout",
     "output_type": "stream",
     "text": [
      "[0 1 2 3 4 5 6]\n",
      "torch.Size([1, 1, 104, 104, 104])\n",
      "torch.Size([7, 104, 104, 104])\n"
     ]
    },
    {
     "data": {
      "text/plain": [
       "metatensor([0., 4.])"
      ]
     },
     "execution_count": 37,
     "metadata": {},
     "output_type": "execute_result"
    }
   ],
   "source": [
    "from monai.networks.nets import UNet\n",
    "device = torch.device('cuda' if torch.cuda.is_available() else 'cpu')\n",
    "\n",
    "print(np.unique(points))\n",
    "\n",
    "sample = augment.random_augmentation(vol, \n",
    "                            mask,\n",
    "                            points,\n",
    "                            num_samples=1, \n",
    "                            aug_params=params,\n",
    "                            save=False)\n",
    "src = sample[0][\"source\"].unsqueeze(0).unsqueeze(0).to(device)\n",
    "tgt = sample[0][\"target\"]\n",
    "pts = sample[0][\"points\"]\n",
    "print(src.shape)\n",
    "\n",
    "model = UNet(\n",
    "    spatial_dims=3,\n",
    "    in_channels=1,\n",
    "    out_channels=7,\n",
    "    channels=(64, 128, 256, 512),\n",
    "    strides=(2, 2, 2),\n",
    "    num_res_units=2,\n",
    "    dropout=0.1,\n",
    ").to(device)\n",
    "model.load_state_dict(torch.load(\"UNet_v1-2.pth\"))\n",
    "\n",
    "\n",
    "model.eval()\n",
    "pred = model(src).to('cpu')\n",
    "pred_viewable = pred.argmax(1).squeeze()\n",
    "src = src.to('cpu').squeeze()\n",
    "prediction = torch.softmax(pred.squeeze(), dim=0)\n",
    "print(prediction.shape)\n",
    "pts.unique()"
   ]
  },
  {
   "cell_type": "code",
   "execution_count": 69,
   "metadata": {},
   "outputs": [],
   "source": [
    "def extract_points_from_target(target: torch.Tensor):\n",
    "    target = np.array(target, dtype=np.int16)\n",
    "    \n",
    "    label_points = {label: [] for label in range(1, 7)}  # Initialize a dict for each label\n",
    "\n",
    "    points = np.array(target.nonzero(), dtype=np.int16).T\n",
    "    for point in points:\n",
    "        label_points[target[tuple(point)]].append(list(point))\n",
    "    return label_points"
   ]
  },
  {
   "cell_type": "code",
   "execution_count": 68,
   "metadata": {},
   "outputs": [],
   "source": [
    "def extract_points_from_prediction(prediction, threshold = 0.):\n",
    "    prediction = prediction.detach().numpy()\n",
    "    \n",
    "    labels = range(1,7)\n",
    "    \n",
    "    label_points = {label: [] for label in labels}  # Initialize a dict for each label\n",
    "\n",
    "    for label in labels:\n",
    "        channel = prediction[label]\n",
    "        points = np.array(np.where(channel > threshold)).T\n",
    "        for p in range(points.shape[0]):\n",
    "            label_points[label].append(list(points[p]))\n",
    "\n",
    "    return label_points"
   ]
  },
  {
   "cell_type": "code",
   "execution_count": 82,
   "metadata": {},
   "outputs": [
    {
     "name": "stdout",
     "output_type": "stream",
     "text": [
      "{1: [], 2: [], 3: [], 4: [[34, 75, 94], [92, 73, 97]], 5: [], 6: []}\n",
      "{1: [[7, 100, 90], [7, 100, 91], [8, 99, 90], [8, 99, 91], [8, 99, 92], [8, 100, 89], [8, 100, 90], [8, 100, 91], [8, 100, 92], [8, 101, 90], [8, 101, 91], [9, 99, 91], [9, 100, 90], [9, 100, 91], [9, 100, 92], [9, 101, 90], [9, 101, 91]], 2: [], 3: [[25, 96, 36], [26, 95, 36], [26, 96, 34], [26, 96, 35], [26, 96, 36], [26, 97, 36], [26, 98, 36], [27, 94, 36], [27, 95, 36], [27, 96, 34], [27, 96, 35], [27, 96, 36], [27, 96, 37], [27, 97, 36], [27, 98, 36], [28, 93, 36], [28, 94, 34], [28, 94, 35], [28, 94, 36], [28, 94, 37], [28, 95, 34], [28, 95, 35], [28, 95, 36], [28, 95, 37], [28, 96, 33], [28, 96, 34], [28, 96, 35], [28, 96, 36], [28, 96, 37], [28, 96, 38], [28, 97, 34], [28, 97, 35], [28, 97, 36], [28, 97, 37], [28, 98, 34], [28, 98, 35], [28, 98, 36], [28, 98, 37], [29, 94, 36], [29, 95, 36], [29, 96, 34], [29, 96, 35], [29, 96, 36], [29, 96, 37], [30, 94, 36], [30, 95, 36], [30, 96, 35], [30, 96, 36]], 4: [], 5: [[23, 4, 56], [24, 4, 56], [24, 4, 60]], 6: []}\n"
     ]
    }
   ],
   "source": [
    "ref_pts = extract_points_from_target(pts.to(torch.int16))\n",
    "cand_pts = extract_points_from_prediction(prediction=prediction, threshold=0.99999997)\n",
    "print(ref_pts)\n",
    "print(cand_pts)"
   ]
  },
  {
   "cell_type": "code",
   "execution_count": 86,
   "metadata": {},
   "outputs": [],
   "source": [
    "from scipy.spatial import KDTree\n",
    "def compute_metrics(reference_points, reference_radius, candidate_points):\n",
    "    num_reference_particles = len(reference_points)\n",
    "    num_candidate_particles = len(candidate_points)\n",
    "\n",
    "    if len(reference_points) == 0:\n",
    "        return 0, num_candidate_particles, 0\n",
    "\n",
    "    if len(candidate_points) == 0:\n",
    "        return 0, 0, num_reference_particles\n",
    "\n",
    "    ref_tree = KDTree(reference_points)\n",
    "    candidate_tree = KDTree(candidate_points)\n",
    "    raw_matches = candidate_tree.query_ball_tree(ref_tree, r=reference_radius)\n",
    "    matches_within_threshold = []\n",
    "    for match in raw_matches:\n",
    "        matches_within_threshold.extend(match)\n",
    "    # Prevent submitting multiple matches per particle.\n",
    "    # This won't be be strictly correct in the (extremely rare) case where true particles\n",
    "    # are very close to each other.\n",
    "    matches_within_threshold = set(matches_within_threshold)\n",
    "    tp = int(len(matches_within_threshold))\n",
    "    fp = int(num_candidate_particles - tp)\n",
    "    fn = int(num_reference_particles - tp)\n",
    "    return tp, fp, fn"
   ]
  },
  {
   "cell_type": "code",
   "execution_count": 71,
   "metadata": {},
   "outputs": [],
   "source": [
    "radii = { 1:60,\n",
    "          2:65,\n",
    "          3:90,\n",
    "          4:150,\n",
    "          5:130,\n",
    "          6:135 }"
   ]
  },
  {
   "cell_type": "code",
   "execution_count": 88,
   "metadata": {},
   "outputs": [
    {
     "name": "stdout",
     "output_type": "stream",
     "text": [
      "60\n",
      "(0, 17, 0)\n",
      "65\n",
      "(0, 0, 0)\n",
      "90\n",
      "(0, 48, 0)\n",
      "150\n",
      "(0, 0, 2)\n",
      "130\n",
      "(0, 3, 0)\n",
      "135\n",
      "(0, 0, 0)\n"
     ]
    }
   ],
   "source": [
    "for label in range(1,7):\n",
    "    print(radii[label])\n",
    "    print(compute_metrics(ref_pts[label], radii[label] / 10, cand_pts[label]))"
   ]
  },
  {
   "cell_type": "code",
   "execution_count": 8,
   "metadata": {},
   "outputs": [
    {
     "name": "stdout",
     "output_type": "stream",
     "text": [
      "# Particles Types Represented: 4\n",
      "# Particles Types Predicted: 6\n"
     ]
    },
    {
     "data": {
      "application/vnd.jupyter.widget-view+json": {
       "model_id": "4c12140d2c804bb4bc029797ee5ec635",
       "version_major": 2,
       "version_minor": 0
      },
      "text/plain": [
       "interactive(children=(IntSlider(value=51, description='i', max=103), Output()), _dom_classes=('widget-interact…"
      ]
     },
     "metadata": {},
     "output_type": "display_data"
    },
    {
     "data": {
      "text/plain": [
       "<function __main__.plot_cross_section(i)>"
      ]
     },
     "execution_count": 8,
     "metadata": {},
     "output_type": "execute_result"
    }
   ],
   "source": [
    "import matplotlib.pyplot as plt\n",
    "import numpy as np\n",
    "from ipywidgets import interact\n",
    "\n",
    "\n",
    "print(f'# Particles Types Represented: {len(np.unique(tgt)) - 1}')\n",
    "print(f'# Particles Types Predicted: {len(np.unique(prediction)) - 1}')\n",
    "\n",
    "\n",
    "\n",
    "def plot_cross_section(i):\n",
    "    vol1 = np.zeros(pts.shape)\n",
    "    vol2 = pts\n",
    "\n",
    "        \n",
    "    plt.figure(figsize=(15, 5))\n",
    "    alpha1 = 0.3\n",
    "    alpha2 = 0.3\n",
    "    \n",
    "\n",
    "    # Slice at x-coordinate\n",
    "    plt.subplot(131)\n",
    "    plt.imshow(vol1[i, :, :], cmap=\"viridis\", alpha=alpha1)\n",
    "    plt.imshow(vol2[i, :, :], cmap=\"Reds\", alpha=alpha2)  # Overlay mask with transparency\n",
    "    plt.title(f'Slice at x={i}')\n",
    "\n",
    "    # Slice at y-coordinate\n",
    "    plt.subplot(132)\n",
    "    plt.imshow(vol1[:, i, :], cmap=\"viridis\", alpha=alpha1)\n",
    "    plt.imshow(vol2[:, i, :], cmap=\"Reds\", alpha=alpha2)\n",
    "    plt.title(f'Slice at y={i}')\n",
    "\n",
    "    # Slice at z-coordinate\n",
    "    plt.subplot(133)\n",
    "    plt.imshow(vol1[:, :, i], cmap=\"viridis\", alpha=alpha1)\n",
    "    plt.imshow(vol2[:, :, i], cmap=\"Reds\", alpha=alpha2)\n",
    "    plt.title(f'Slice at z={i}')\n",
    "\n",
    "    plt.show()\n",
    "\n",
    "# Interactive Slider for scrolling through slices\n",
    "interact(plot_cross_section, i=(0, prediction.shape[0] - 1))"
   ]
  }
 ],
 "metadata": {
  "kernelspec": {
   "display_name": "Python 3",
   "language": "python",
   "name": "python3"
  },
  "language_info": {
   "codemirror_mode": {
    "name": "ipython",
    "version": 3
   },
   "file_extension": ".py",
   "mimetype": "text/x-python",
   "name": "python",
   "nbconvert_exporter": "python",
   "pygments_lexer": "ipython3",
   "version": "3.10.6"
  }
 },
 "nbformat": 4,
 "nbformat_minor": 2
}
