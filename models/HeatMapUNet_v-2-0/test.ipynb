{
 "cells": [
  {
   "cell_type": "code",
   "execution_count": 1,
   "metadata": {},
   "outputs": [],
   "source": [
    "import torch\n",
    "import torch.utils.data as torch_split\n",
    "import torch.nn as nn\n",
    "from torch.nn import MSELoss\n",
    "from torch.nn import BCELoss\n",
    "import numpy as np\n",
    "import dataset\n",
    "import torch.optim as optim\n",
    "import torch.nn as nn\n",
    "from torch.utils.data import DataLoader\n",
    "import torch.optim.lr_scheduler\n",
    "from monai.losses import DiceLoss\n",
    "from monai.losses import FocalLoss\n",
    "from monai.networks.nets import UNet\n",
    "import sys\n",
    "sys.path.insert(1, 'H:/Projects/Kaggle/CZII-CryoET-Object-Identification/preprocessing')\n",
    "sys.path.insert(1, 'H:/Projects/Kaggle/CZII-CryoET-Object-Identification/postprocessing')\n",
    "import visual\n",
    "\n",
    "import metrics"
   ]
  },
  {
   "cell_type": "code",
   "execution_count": 2,
   "metadata": {},
   "outputs": [],
   "source": [
    "path = \"H:/Projects/Kaggle/CZII-CryoET-Object-Identification/datasets/3D/dim104-gaussian-heatmap\"\n",
    "data = dataset.UNetDataset(path=path)\n"
   ]
  },
  {
   "cell_type": "code",
   "execution_count": 3,
   "metadata": {},
   "outputs": [],
   "source": [
    "train_loader = DataLoader(data, batch_size=16, collate_fn=dataset.collate_fn, shuffle=True, num_workers=4)"
   ]
  },
  {
   "cell_type": "code",
   "execution_count": 4,
   "metadata": {},
   "outputs": [],
   "source": [
    "totals = np.zeros(7)\n",
    "for batch in train_loader:\n",
    "    target = batch['tgt']\n",
    "    totals += np.sum(target.numpy(), axis=(0,2,3,4))"
   ]
  },
  {
   "cell_type": "code",
   "execution_count": 9,
   "metadata": {},
   "outputs": [
    {
     "name": "stdout",
     "output_type": "stream",
     "text": [
      "0.958 : \n",
      "0.00133 : \n",
      "0.000573 : \n",
      "0.00174 : \n",
      "0.0221 : \n",
      "0.0109 : \n",
      "0.00569 : \n"
     ]
    }
   ],
   "source": [
    "total = totals.sum()\n",
    "for i in totals:\n",
    "    print(f\"{i/total:.3g} : {1 - i/total:.3g}\")"
   ]
  }
 ],
 "metadata": {
  "kernelspec": {
   "display_name": "Python 3",
   "language": "python",
   "name": "python3"
  },
  "language_info": {
   "codemirror_mode": {
    "name": "ipython",
    "version": 3
   },
   "file_extension": ".py",
   "mimetype": "text/x-python",
   "name": "python",
   "nbconvert_exporter": "python",
   "pygments_lexer": "ipython3",
   "version": "3.10.6"
  }
 },
 "nbformat": 4,
 "nbformat_minor": 2
}
