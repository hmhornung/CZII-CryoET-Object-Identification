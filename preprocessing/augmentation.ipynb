{
 "cells": [
  {
   "cell_type": "code",
   "execution_count": 1,
   "metadata": {},
   "outputs": [],
   "source": [
    "import load\n",
    "import matplotlib.pyplot as plt\n",
    "\n",
    "\n",
    "root = load.get_root()\n",
    "\n",
    "picks = load.get_picks_dict(root)\n",
    "\n",
    "vol, coords, scales = load.get_run_volume_picks(root, level=0)\n",
    "\n",
    "mask = load.get_picks_mask(vol.shape, picks, coords, int(scales[0]))\n"
   ]
  },
  {
   "cell_type": "code",
   "execution_count": 3,
   "metadata": {},
   "outputs": [
    {
     "name": "stdout",
     "output_type": "stream",
     "text": [
      "# Particles Types Represented: 1\n"
     ]
    },
    {
     "data": {
      "application/vnd.jupyter.widget-view+json": {
       "model_id": "fbb5a8098a4f4433a21e0ce614b2c8db",
       "version_major": 2,
       "version_minor": 0
      },
      "text/plain": [
       "interactive(children=(IntSlider(value=86, description='i', max=172), Output()), _dom_classes=('widget-interact…"
      ]
     },
     "metadata": {},
     "output_type": "display_data"
    },
    {
     "data": {
      "text/plain": [
       "<function __main__.plot_cross_section(i)>"
      ]
     },
     "execution_count": 3,
     "metadata": {},
     "output_type": "execute_result"
    }
   ],
   "source": [
    "import matplotlib.pyplot as plt\n",
    "import numpy as np\n",
    "from ipywidgets import interact\n",
    "import augment\n",
    "\n",
    "params = augment.aug_params\n",
    "params['patch_size'] = (300,300,300)\n",
    "params['final_size'] = (50,50,50)\n",
    "\n",
    "samples = augment.random_augmentation(vol, mask, num_samples=1, aug_params=params)\n",
    "\n",
    "new_vol = np.squeeze(samples[0]['input'])\n",
    "new_mask = np.squeeze(samples[0]['target'])  # Mask with interest points (non-zero values)\n",
    "\n",
    "print(f'# Particles Types Represented: {len(np.unique(new_mask)) - 1}')\n",
    "\n",
    "\n",
    "def plot_cross_section(i):\n",
    "    plot_vol = new_vol\n",
    "    plot_mask = new_mask\n",
    "    \n",
    "    plt.figure(figsize=(15, 5))\n",
    "    alpha = 0.3\n",
    "\n",
    "    # Slice at x-coordinate\n",
    "    plt.subplot(131)\n",
    "    plt.imshow(plot_vol[i, :, :], cmap=\"viridis\")\n",
    "    plt.imshow(plot_mask[i, :, :], cmap=\"Reds\", alpha=alpha)  # Overlay mask with transparency\n",
    "    plt.title(f'Slice at x={i}')\n",
    "\n",
    "    # Slice at y-coordinate\n",
    "    plt.subplot(132)\n",
    "    plt.imshow(plot_vol[:, i, :], cmap=\"viridis\")\n",
    "    plt.imshow(plot_mask[:, i, :], cmap=\"Reds\", alpha=alpha)\n",
    "    plt.title(f'Slice at y={i}')\n",
    "\n",
    "    # Slice at z-coordinate\n",
    "    plt.subplot(133)\n",
    "    plt.imshow(plot_vol[:, :, i], cmap=\"viridis\")\n",
    "    plt.imshow(plot_mask[:, :, i], cmap=\"Reds\", alpha=alpha)\n",
    "    plt.title(f'Slice at z={i}')\n",
    "\n",
    "    plt.show()\n",
    "\n",
    "# Interactive Slider for scrolling through slices\n",
    "interact(plot_cross_section, i=(0, new_vol.shape[0] - 1))"
   ]
  }
 ],
 "metadata": {
  "kernelspec": {
   "display_name": "Python 3",
   "language": "python",
   "name": "python3"
  },
  "language_info": {
   "codemirror_mode": {
    "name": "ipython",
    "version": 3
   },
   "file_extension": ".py",
   "mimetype": "text/x-python",
   "name": "python",
   "nbconvert_exporter": "python",
   "pygments_lexer": "ipython3",
   "version": "3.10.6"
  }
 },
 "nbformat": 4,
 "nbformat_minor": 2
}
