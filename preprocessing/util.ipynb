{
 "cells": [
  {
   "cell_type": "code",
   "execution_count": 89,
   "metadata": {},
   "outputs": [],
   "source": [
    "import copick\n",
    "import os\n",
    "import json\n",
    "import zarr\n",
    "import numpy as np\n",
    "import matplotlib.pyplot as plt\n",
    "\n",
    "def get_root(cnfg_path=\"copick_config.json\"):\n",
    "    root = copick.from_file(\"copick_config.json\")\n",
    "    return root\n",
    "\n",
    "def get_picks_dict(root, particles_only=True):\n",
    "    pick_dict = {}\n",
    "    for pick in root.pickable_objects:\n",
    "        pick_dict[pick.name] = {\n",
    "            'is_particle': pick.is_particle,\n",
    "            'label': pick.label,\n",
    "            'color': pick.color,\n",
    "            'pdb_id': pick.pdb_id,\n",
    "            'radius': pick.radius,\n",
    "            'threshold': pick.map_threshold\n",
    "        }\n",
    "    if particles_only:\n",
    "        return {k : v for k, v in pick_dict.items() if v.get('is_particle')}\n",
    "    return pick_dict"
   ]
  },
  {
   "cell_type": "code",
   "execution_count": 90,
   "metadata": {},
   "outputs": [],
   "source": [
    "# Function to load CryoET OME-Zarr data at all resolutions\n",
    "def get_run_volume_picks(root, run='TS_5_4', level=0, particles=None):\n",
    "    \n",
    "    zarr_path = os.path.join(root.root_static, f\"ExperimentRuns/{run}/VoxelSpacing10.000/denoised.zarr\")\n",
    "    picks_path = os.path.join(root.root_overlay, f\"ExperimentRuns/{run}/Picks\")\n",
    "    \n",
    "    if particles is None: \n",
    "        pick_dict = get_picks_dict(root)\n",
    "        particles = [k for k, v in pick_dict.items() if v.get('is_particle')]\n",
    "\n",
    "    # Open the OME-Zarr dataset\n",
    "    store = zarr.DirectoryStore(zarr_path)\n",
    "    zarrs = zarr.open(store, mode='r')\n",
    "    \n",
    "    level_info = zarrs.attrs['multiscales'][0]['datasets'][level]\n",
    "    \n",
    "    scales = np.array(level_info['coordinateTransformations'][0]['scale'])\n",
    "    \n",
    "    # Swap scales since data has x & z switched\n",
    "    scales[[0, 2]] = scales[[2, 0]]\n",
    "    \n",
    "    path = level_info[\"path\"]\n",
    "    \n",
    "    volume = np.array(zarrs[path][:])\n",
    "    \n",
    "    # Load ground truth JSONs (particle coordinates)\n",
    "    particle_coords = {}\n",
    "    for particle in particles:\n",
    "        json_path = os.path.join(picks_path, f\"{particle}.json\")\n",
    "        if os.path.exists(json_path):\n",
    "            with open(json_path, 'r') as f:\n",
    "                # Get json file\n",
    "                json_data = json.load(f)\n",
    "                pick_data = json_data['points']\n",
    "                \n",
    "                # Get all picks for specific particle type\n",
    "                picks = []\n",
    "                for pick in pick_data:\n",
    "                    coords = pick['location']\n",
    "                    # Swap the x and z coords since data has them swapped\n",
    "                    picks.append(np.array([coords['z'], coords['y'],  coords['x']]) / scales)\n",
    "                particle_coords[particle] = np.array(picks)\n",
    "                \n",
    "                    \n",
    "        else:\n",
    "            print(f\"Ground truth file for {particle} not found.\")\n",
    "    \n",
    "    return volume, particle_coords, scales"
   ]
  },
  {
   "cell_type": "code",
   "execution_count": 91,
   "metadata": {},
   "outputs": [],
   "source": [
    "import numpy as np\n",
    "\n",
    "def create_sphere(volume, center, radius, value=1):\n",
    "    \"\"\"\n",
    "    Creates a sphere in a 3D volume array.\n",
    "\n",
    "    Parameters:\n",
    "    volume: 3D numpy array\n",
    "    center: (x, y, z) coordinates of the sphere's center\n",
    "    radius: radius of the sphere\n",
    "    value: value to assign to the sphere's voxels\n",
    "\n",
    "    Returns:\n",
    "    3D numpy array with the sphere\n",
    "    \"\"\"\n",
    "\n",
    "    x, y, z = np.ogrid[:volume.shape[0], :volume.shape[1], :volume.shape[2]]\n",
    "    dist_sq = (x - center[0]) ** 2 + (y - center[1]) ** 2 + (z - center[2]) ** 2\n",
    "    volume[dist_sq <= radius ** 2] = value\n",
    "    return volume\n",
    "\n",
    "# i = 8\n",
    "\n",
    "# volume = np.zeros((16,16,16))\n",
    "# print(volume[i])\n",
    "\n",
    "# volume = create_sphere(volume, (7,7,7), 7)\n",
    "\n",
    "# print(volume[i])"
   ]
  },
  {
   "cell_type": "code",
   "execution_count": 92,
   "metadata": {},
   "outputs": [],
   "source": [
    "def get_picks_mask(shape, pick_dict, coords, scale):\n",
    "    mask = np.zeros(shape)\n",
    "    \n",
    "    for particle in pick_dict:\n",
    "        print(pick_dict[particle]['radius'])\n",
    "        rad = int(np.ceil(pick_dict[particle]['radius'] / scale))\n",
    "        \n",
    "        val = pick_dict[particle]['label']\n",
    "        points = coords[particle]\n",
    "        for idx in range(points.shape[0]):\n",
    "            point = points[idx]\n",
    "            mask = create_sphere(mask, point, rad, val)\n",
    "    \n",
    "    return mask\n",
    "\n",
    "\n"
   ]
  },
  {
   "cell_type": "code",
   "execution_count": 93,
   "metadata": {},
   "outputs": [
    {
     "name": "stdout",
     "output_type": "stream",
     "text": [
      "apo-ferritin\n",
      "beta-amylase\n",
      "beta-galactosidase\n",
      "ribosome\n",
      "thyroglobulin\n",
      "virus-like-particle\n"
     ]
    }
   ],
   "source": [
    "# {\"x\": 468.514, \"y\": 5915.906, \"z\": 604.167}\n",
    "root = get_root()\n",
    "\n",
    "picks = get_picks_dict(root)\n",
    "\n",
    "vol, coords, scales = get_run_volume_picks(root, level=2)\n",
    "\n",
    "for pick in picks:\n",
    "    print(pick)"
   ]
  },
  {
   "cell_type": "code",
   "execution_count": 94,
   "metadata": {},
   "outputs": [
    {
     "name": "stdout",
     "output_type": "stream",
     "text": [
      "60.0\n",
      "65.0\n",
      "90.0\n",
      "150.0\n",
      "130.0\n",
      "135.0\n"
     ]
    }
   ],
   "source": [
    "mask = get_picks_mask(vol.shape, picks, coords, int(scales[0]))\n"
   ]
  },
  {
   "cell_type": "code",
   "execution_count": 96,
   "metadata": {},
   "outputs": [
    {
     "data": {
      "text/plain": [
       "<matplotlib.image.AxesImage at 0x238687e5ed0>"
      ]
     },
     "execution_count": 96,
     "metadata": {},
     "output_type": "execute_result"
    },
    {
     "data": {
      "image/png": "[encoded data removed]",
      "text/plain": [
       "<Figure size 640x480 with 1 Axes>"
      ]
     },
     "metadata": {},
     "output_type": "display_data"
    }
   ],
   "source": [
    "plt.imshow(mask[14, :, :], cmap=\"viridis\")"
   ]
  }
 ],
 "metadata": {
  "kernelspec": {
   "display_name": "Python 3",
   "language": "python",
   "name": "python3"
  },
  "language_info": {
   "codemirror_mode": {
    "name": "ipython",
    "version": 3
   },
   "file_extension": ".py",
   "mimetype": "text/x-python",
   "name": "python",
   "nbconvert_exporter": "python",
   "pygments_lexer": "ipython3",
   "version": "3.10.6"
  }
 },
 "nbformat": 4,
 "nbformat_minor": 2
}
